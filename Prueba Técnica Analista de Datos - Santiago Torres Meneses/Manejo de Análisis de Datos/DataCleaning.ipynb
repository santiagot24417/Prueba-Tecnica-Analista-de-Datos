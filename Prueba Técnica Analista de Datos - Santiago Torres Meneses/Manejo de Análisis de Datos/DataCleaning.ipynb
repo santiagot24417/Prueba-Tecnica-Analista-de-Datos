{
 "cells": [
  {
   "cell_type": "code",
   "execution_count": 514,
   "metadata": {},
   "outputs": [],
   "source": [
    "import pandas as pd\n",
    "import numpy as np\n",
    "import matplotlib.pyplot as plt"
   ]
  },
  {
   "cell_type": "code",
   "execution_count": 515,
   "metadata": {},
   "outputs": [],
   "source": [
    "ruta = 'data_FIFA.xlsx'"
   ]
  },
  {
   "cell_type": "code",
   "execution_count": 516,
   "metadata": {},
   "outputs": [],
   "source": [
    "df = pd.read_excel(ruta)"
   ]
  },
  {
   "cell_type": "code",
   "execution_count": 517,
   "metadata": {},
   "outputs": [
    {
     "name": "stdout",
     "output_type": "stream",
     "text": [
      "Index(['Unnamed: 0', 'ID', 'Name', 'Age', 'Nationality', 'Overall',\n",
      "       'Potential', 'Club', 'Value', 'Wage', 'Special', 'Preferred Foot',\n",
      "       'International Reputation', 'Weak Foot', 'Skill Moves', 'Work Rate',\n",
      "       'Body Type', 'Real Face', 'Position', 'Jersey Number', 'Joined',\n",
      "       'Loaned From', 'Contract Valid Until', 'Height', 'Weight', 'LS', 'ST',\n",
      "       'RS', 'LW', 'LF', 'CF', 'RF', 'RW', 'LAM', 'CAM', 'RAM', 'LM', 'LCM',\n",
      "       'CM', 'RCM', 'RM', 'LWB', 'LDM', 'CDM', 'RDM', 'RWB', 'LB', 'LCB', 'CB',\n",
      "       'RCB', 'RB', 'Crossing', 'Finishing', 'HeadingAccuracy', 'ShortPassing',\n",
      "       'Volleys', 'Dribbling', 'Curve', 'FKAccuracy', 'LongPassing',\n",
      "       'BallControl', 'Acceleration', 'SprintSpeed', 'Agility', 'Reactions',\n",
      "       'Balance', 'ShotPower', 'Jumping', 'Stamina', 'Strength', 'LongShots',\n",
      "       'Aggression', 'Interceptions', 'Positioning', 'Vision', 'Penalties',\n",
      "       'Composure', 'Marking', 'StandingTackle', 'SlidingTackle', 'GKDiving',\n",
      "       'GKHandling', 'GKKicking', 'GKPositioning', 'GKReflexes',\n",
      "       'Release Clause'],\n",
      "      dtype='object')\n"
     ]
    }
   ],
   "source": [
    "print(df.columns)"
   ]
  },
  {
   "cell_type": "code",
   "execution_count": 518,
   "metadata": {},
   "outputs": [
    {
     "name": "stdout",
     "output_type": "stream",
     "text": [
      "<class 'pandas.core.frame.DataFrame'>\n",
      "RangeIndex: 18207 entries, 0 to 18206\n",
      "Data columns (total 86 columns):\n",
      " #   Column                    Non-Null Count  Dtype         \n",
      "---  ------                    --------------  -----         \n",
      " 0   Unnamed: 0                18207 non-null  int64         \n",
      " 1   ID                        18207 non-null  int64         \n",
      " 2   Name                      18207 non-null  object        \n",
      " 3   Age                       18207 non-null  int64         \n",
      " 4   Nationality               18207 non-null  object        \n",
      " 5   Overall                   18207 non-null  int64         \n",
      " 6   Potential                 18207 non-null  int64         \n",
      " 7   Club                      17966 non-null  object        \n",
      " 8   Value                     18207 non-null  object        \n",
      " 9   Wage                      18207 non-null  object        \n",
      " 10  Special                   18207 non-null  int64         \n",
      " 11  Preferred Foot            18159 non-null  object        \n",
      " 12  International Reputation  18159 non-null  float64       \n",
      " 13  Weak Foot                 18159 non-null  float64       \n",
      " 14  Skill Moves               18159 non-null  float64       \n",
      " 15  Work Rate                 18159 non-null  object        \n",
      " 16  Body Type                 18159 non-null  object        \n",
      " 17  Real Face                 18159 non-null  object        \n",
      " 18  Position                  18147 non-null  object        \n",
      " 19  Jersey Number             18147 non-null  float64       \n",
      " 20  Joined                    16654 non-null  datetime64[ns]\n",
      " 21  Loaned From               1264 non-null   object        \n",
      " 22  Contract Valid Until      17918 non-null  object        \n",
      " 23  Height                    18159 non-null  object        \n",
      " 24  Weight                    18159 non-null  object        \n",
      " 25  LS                        16122 non-null  object        \n",
      " 26  ST                        16122 non-null  object        \n",
      " 27  RS                        16122 non-null  object        \n",
      " 28  LW                        16122 non-null  object        \n",
      " 29  LF                        16122 non-null  object        \n",
      " 30  CF                        16122 non-null  object        \n",
      " 31  RF                        16122 non-null  object        \n",
      " 32  RW                        16122 non-null  object        \n",
      " 33  LAM                       16122 non-null  object        \n",
      " 34  CAM                       16122 non-null  object        \n",
      " 35  RAM                       16122 non-null  object        \n",
      " 36  LM                        16122 non-null  object        \n",
      " 37  LCM                       16122 non-null  object        \n",
      " 38  CM                        16122 non-null  object        \n",
      " 39  RCM                       16122 non-null  object        \n",
      " 40  RM                        16122 non-null  object        \n",
      " 41  LWB                       16122 non-null  object        \n",
      " 42  LDM                       16122 non-null  object        \n",
      " 43  CDM                       16122 non-null  object        \n",
      " 44  RDM                       16122 non-null  object        \n",
      " 45  RWB                       16122 non-null  object        \n",
      " 46  LB                        16122 non-null  object        \n",
      " 47  LCB                       16122 non-null  object        \n",
      " 48  CB                        16122 non-null  object        \n",
      " 49  RCB                       16122 non-null  object        \n",
      " 50  RB                        16122 non-null  object        \n",
      " 51  Crossing                  18159 non-null  float64       \n",
      " 52  Finishing                 18159 non-null  float64       \n",
      " 53  HeadingAccuracy           18159 non-null  float64       \n",
      " 54  ShortPassing              18159 non-null  float64       \n",
      " 55  Volleys                   18159 non-null  float64       \n",
      " 56  Dribbling                 18159 non-null  float64       \n",
      " 57  Curve                     18159 non-null  float64       \n",
      " 58  FKAccuracy                18159 non-null  float64       \n",
      " 59  LongPassing               18159 non-null  float64       \n",
      " 60  BallControl               18159 non-null  float64       \n",
      " 61  Acceleration              18159 non-null  float64       \n",
      " 62  SprintSpeed               18159 non-null  float64       \n",
      " 63  Agility                   18159 non-null  float64       \n",
      " 64  Reactions                 18159 non-null  float64       \n",
      " 65  Balance                   18159 non-null  float64       \n",
      " 66  ShotPower                 18159 non-null  float64       \n",
      " 67  Jumping                   18159 non-null  float64       \n",
      " 68  Stamina                   18159 non-null  float64       \n",
      " 69  Strength                  18159 non-null  float64       \n",
      " 70  LongShots                 18159 non-null  float64       \n",
      " 71  Aggression                18159 non-null  float64       \n",
      " 72  Interceptions             18159 non-null  float64       \n",
      " 73  Positioning               18159 non-null  float64       \n",
      " 74  Vision                    18159 non-null  float64       \n",
      " 75  Penalties                 18159 non-null  float64       \n",
      " 76  Composure                 18159 non-null  float64       \n",
      " 77  Marking                   18159 non-null  float64       \n",
      " 78  StandingTackle            18159 non-null  float64       \n",
      " 79  SlidingTackle             18159 non-null  float64       \n",
      " 80  GKDiving                  18159 non-null  float64       \n",
      " 81  GKHandling                18159 non-null  float64       \n",
      " 82  GKKicking                 18159 non-null  float64       \n",
      " 83  GKPositioning             18159 non-null  float64       \n",
      " 84  GKReflexes                18159 non-null  float64       \n",
      " 85  Release Clause            16643 non-null  object        \n",
      "dtypes: datetime64[ns](1), float64(38), int64(6), object(41)\n",
      "memory usage: 11.9+ MB\n",
      "None\n"
     ]
    }
   ],
   "source": [
    "print(df.info())"
   ]
  },
  {
   "cell_type": "code",
   "execution_count": 519,
   "metadata": {},
   "outputs": [
    {
     "name": "stdout",
     "output_type": "stream",
     "text": [
      "         Unnamed: 0             ID           Age       Overall     Potential  \\\n",
      "count  18207.000000   18207.000000  18207.000000  18207.000000  18207.000000   \n",
      "mean    9103.000000  214298.338606     25.122206     66.238699     71.307299   \n",
      "std     5256.052511   29965.244204      4.669943      6.908930      6.136496   \n",
      "min        0.000000      16.000000     16.000000     46.000000     48.000000   \n",
      "25%     4551.500000  200315.500000     21.000000     62.000000     67.000000   \n",
      "50%     9103.000000  221759.000000     25.000000     66.000000     71.000000   \n",
      "75%    13654.500000  236529.500000     28.000000     71.000000     75.000000   \n",
      "max    18206.000000  246620.000000     45.000000     94.000000     95.000000   \n",
      "\n",
      "            Special  International Reputation     Weak Foot   Skill Moves  \\\n",
      "count  18207.000000              18159.000000  18159.000000  18159.000000   \n",
      "mean    1597.809908                  1.113222      2.947299      2.361308   \n",
      "std      272.586016                  0.394031      0.660456      0.756164   \n",
      "min      731.000000                  1.000000      1.000000      1.000000   \n",
      "25%     1457.000000                  1.000000      3.000000      2.000000   \n",
      "50%     1635.000000                  1.000000      3.000000      2.000000   \n",
      "75%     1787.000000                  1.000000      3.000000      3.000000   \n",
      "max     2346.000000                  5.000000      5.000000      5.000000   \n",
      "\n",
      "       Jersey Number  ...     Penalties     Composure       Marking  \\\n",
      "count   18147.000000  ...  18159.000000  18159.000000  18159.000000   \n",
      "mean       19.546096  ...     48.548598     58.648274     47.281623   \n",
      "std        15.947765  ...     15.704053     11.436133     19.904397   \n",
      "min         1.000000  ...      5.000000      3.000000      3.000000   \n",
      "25%         8.000000  ...     39.000000     51.000000     30.000000   \n",
      "50%        17.000000  ...     49.000000     60.000000     53.000000   \n",
      "75%        26.000000  ...     60.000000     67.000000     64.000000   \n",
      "max        99.000000  ...     92.000000     96.000000     94.000000   \n",
      "\n",
      "       StandingTackle  SlidingTackle      GKDiving    GKHandling  \\\n",
      "count    18159.000000   18159.000000  18159.000000  18159.000000   \n",
      "mean        47.697836      45.661435     16.616223     16.391596   \n",
      "std         21.664004      21.289135     17.695349     16.906900   \n",
      "min          2.000000       3.000000      1.000000      1.000000   \n",
      "25%         27.000000      24.000000      8.000000      8.000000   \n",
      "50%         55.000000      52.000000     11.000000     11.000000   \n",
      "75%         66.000000      64.000000     14.000000     14.000000   \n",
      "max         93.000000      91.000000     90.000000     92.000000   \n",
      "\n",
      "          GKKicking  GKPositioning    GKReflexes  \n",
      "count  18159.000000   18159.000000  18159.000000  \n",
      "mean      16.232061      16.388898     16.710887  \n",
      "std       16.502864      17.034669     17.955119  \n",
      "min        1.000000       1.000000      1.000000  \n",
      "25%        8.000000       8.000000      8.000000  \n",
      "50%       11.000000      11.000000     11.000000  \n",
      "75%       14.000000      14.000000     14.000000  \n",
      "max       91.000000      90.000000     94.000000  \n",
      "\n",
      "[8 rows x 44 columns]\n"
     ]
    }
   ],
   "source": [
    "print(df.describe())"
   ]
  },
  {
   "cell_type": "code",
   "execution_count": 520,
   "metadata": {},
   "outputs": [
    {
     "name": "stdout",
     "output_type": "stream",
     "text": [
      "Index(['# Lista', 'ID', 'Name', 'Age', 'Nationality', 'Overall', 'Potential',\n",
      "       'Club', 'Value', 'Wage', 'Special', 'Preferred Foot',\n",
      "       'International Reputation', 'Weak Foot', 'Skill Moves', 'Work Rate',\n",
      "       'Body Type', 'Real Face', 'Position', 'Jersey Number', 'Joined',\n",
      "       'Loaned From', 'Contract Valid Until', 'Height', 'Weight', 'LS', 'ST',\n",
      "       'RS', 'LW', 'LF', 'CF', 'RF', 'RW', 'LAM', 'CAM', 'RAM', 'LM', 'LCM',\n",
      "       'CM', 'RCM', 'RM', 'LWB', 'LDM', 'CDM', 'RDM', 'RWB', 'LB', 'LCB', 'CB',\n",
      "       'RCB', 'RB', 'Crossing', 'Finishing', 'HeadingAccuracy', 'ShortPassing',\n",
      "       'Volleys', 'Dribbling', 'Curve', 'FKAccuracy', 'LongPassing',\n",
      "       'BallControl', 'Acceleration', 'SprintSpeed', 'Agility', 'Reactions',\n",
      "       'Balance', 'ShotPower', 'Jumping', 'Stamina', 'Strength', 'LongShots',\n",
      "       'Aggression', 'Interceptions', 'Positioning', 'Vision', 'Penalties',\n",
      "       'Composure', 'Marking', 'StandingTackle', 'SlidingTackle', 'GKDiving',\n",
      "       'GKHandling', 'GKKicking', 'GKPositioning', 'GKReflexes',\n",
      "       'Release Clause'],\n",
      "      dtype='object')\n"
     ]
    }
   ],
   "source": [
    "df = df.rename(columns= {'Unnamed: 0':'# Lista'})\n",
    "print(df.columns)"
   ]
  },
  {
   "cell_type": "code",
   "execution_count": 521,
   "metadata": {},
   "outputs": [
    {
     "name": "stdout",
     "output_type": "stream",
     "text": [
      "NaN                        241\n",
      "FC Barcelona                33\n",
      "Wolverhampton Wanderers     33\n",
      "Rayo Vallecano              33\n",
      "Liverpool                   33\n",
      "                          ... \n",
      "Tromsø IL                   20\n",
      "Sport Club do Recife        20\n",
      "Sligo Rovers                19\n",
      "Limerick FC                 19\n",
      "Derry City                  18\n",
      "Name: Club, Length: 652, dtype: int64\n"
     ]
    }
   ],
   "source": [
    "print(df['Club'].value_counts(dropna = False))"
   ]
  },
  {
   "cell_type": "code",
   "execution_count": 522,
   "metadata": {},
   "outputs": [],
   "source": [
    "df['Club'].fillna(\"sin equipo\", inplace = True)"
   ]
  },
  {
   "cell_type": "code",
   "execution_count": 523,
   "metadata": {},
   "outputs": [
    {
     "name": "stdout",
     "output_type": "stream",
     "text": [
      "Right    13948\n",
      "Left      4211\n",
      "NaN         48\n",
      "Name: Preferred Foot, dtype: int64\n"
     ]
    }
   ],
   "source": [
    "print(df['Preferred Foot'].value_counts(dropna = False))"
   ]
  },
  {
   "cell_type": "code",
   "execution_count": 524,
   "metadata": {},
   "outputs": [],
   "source": [
    "df['Preferred Foot'].fillna(\"Both\", inplace = True)"
   ]
  },
  {
   "cell_type": "code",
   "execution_count": 525,
   "metadata": {},
   "outputs": [],
   "source": [
    "df['International Reputation'].fillna(1, inplace = True)"
   ]
  },
  {
   "cell_type": "code",
   "execution_count": 526,
   "metadata": {},
   "outputs": [],
   "source": [
    "df['Weak Foot'].fillna(3, inplace = True)"
   ]
  },
  {
   "cell_type": "code",
   "execution_count": 527,
   "metadata": {},
   "outputs": [],
   "source": [
    "df['Skill Moves'].fillna(3, inplace = True)"
   ]
  },
  {
   "cell_type": "code",
   "execution_count": 528,
   "metadata": {},
   "outputs": [
    {
     "name": "stdout",
     "output_type": "stream",
     "text": [
      "Medium/ Medium    9810\n",
      "High/ Medium      3173\n",
      "Medium/ High      1690\n",
      "High/ High        1015\n",
      "Medium/ Low        850\n",
      "High/ Low          699\n",
      "Low/ Medium        449\n",
      "Low/ High          439\n",
      "NaN                 48\n",
      "Low/ Low            34\n",
      "Name: Work Rate, dtype: int64\n"
     ]
    }
   ],
   "source": [
    "print(df['Work Rate'].value_counts(dropna = False))"
   ]
  },
  {
   "cell_type": "code",
   "execution_count": 529,
   "metadata": {},
   "outputs": [],
   "source": [
    "df['Work Rate'].fillna(\"Medium/ Medium\", inplace = True)"
   ]
  },
  {
   "cell_type": "code",
   "execution_count": 530,
   "metadata": {},
   "outputs": [
    {
     "name": "stdout",
     "output_type": "stream",
     "text": [
      "Normal                 10595\n",
      "Lean                    6417\n",
      "Stocky                  1140\n",
      "NaN                       48\n",
      "PLAYER_BODY_TYPE_25        1\n",
      "Courtois                   1\n",
      "Shaqiri                    1\n",
      "Akinfenwa                  1\n",
      "C. Ronaldo                 1\n",
      "Messi                      1\n",
      "Neymar                     1\n",
      "Name: Body Type, dtype: int64\n"
     ]
    }
   ],
   "source": [
    "print(df['Body Type'].value_counts(dropna = False))"
   ]
  },
  {
   "cell_type": "code",
   "execution_count": 531,
   "metadata": {},
   "outputs": [],
   "source": [
    "df['Body Type'].fillna(\"Normal\", inplace = True)"
   ]
  },
  {
   "cell_type": "code",
   "execution_count": 532,
   "metadata": {},
   "outputs": [],
   "source": [
    "df= df.replace([\"PLAYER_BODY_TYPE_25\"],\"Stocky\")"
   ]
  },
  {
   "cell_type": "code",
   "execution_count": 533,
   "metadata": {},
   "outputs": [
    {
     "name": "stdout",
     "output_type": "stream",
     "text": [
      "No     16505\n",
      "Yes     1654\n",
      "NaN       48\n",
      "Name: Real Face, dtype: int64\n"
     ]
    }
   ],
   "source": [
    "print(df['Real Face'].value_counts(dropna = False))"
   ]
  },
  {
   "cell_type": "code",
   "execution_count": 534,
   "metadata": {},
   "outputs": [],
   "source": [
    "df['Real Face'].fillna(\"No\", inplace = True)"
   ]
  },
  {
   "cell_type": "code",
   "execution_count": 535,
   "metadata": {},
   "outputs": [
    {
     "name": "stdout",
     "output_type": "stream",
     "text": [
      "ST     2152\n",
      "GK     2025\n",
      "CB     1778\n",
      "CM     1394\n",
      "LB     1322\n",
      "RB     1291\n",
      "RM     1124\n",
      "LM     1095\n",
      "CAM     958\n",
      "CDM     948\n",
      "RCB     662\n",
      "LCB     648\n",
      "LCM     395\n",
      "RCM     391\n",
      "LW      381\n",
      "RW      370\n",
      "RDM     248\n",
      "LDM     243\n",
      "LS      207\n",
      "RS      203\n",
      "RWB      87\n",
      "LWB      78\n",
      "CF       74\n",
      "NaN      60\n",
      "RAM      21\n",
      "LAM      21\n",
      "RF       16\n",
      "LF       15\n",
      "Name: Position, dtype: int64\n"
     ]
    }
   ],
   "source": [
    "print(df['Position'].value_counts(dropna = False))"
   ]
  },
  {
   "cell_type": "code",
   "execution_count": 536,
   "metadata": {},
   "outputs": [],
   "source": [
    "df['Position'].fillna(\"ST\", inplace = True)"
   ]
  },
  {
   "cell_type": "code",
   "execution_count": 537,
   "metadata": {},
   "outputs": [],
   "source": [
    "df['Jersey Number'].fillna(26, inplace = True)"
   ]
  },
  {
   "cell_type": "code",
   "execution_count": 538,
   "metadata": {},
   "outputs": [
    {
     "name": "stdout",
     "output_type": "stream",
     "text": [
      "NaT           1553\n",
      "2018-07-01    1538\n",
      "2017-07-01    1133\n",
      "2018-01-01     635\n",
      "2016-07-01     614\n",
      "              ... \n",
      "2005-06-01       1\n",
      "2011-08-08       1\n",
      "2017-11-21       1\n",
      "2014-09-03       1\n",
      "2011-07-02       1\n",
      "Name: Joined, Length: 1737, dtype: int64\n"
     ]
    }
   ],
   "source": [
    "print(df['Joined'].value_counts(dropna = False))"
   ]
  },
  {
   "cell_type": "code",
   "execution_count": 539,
   "metadata": {},
   "outputs": [],
   "source": [
    "df['Joined'].fillna(\"2018-07-01 00:00:00\", inplace = True)"
   ]
  },
  {
   "cell_type": "code",
   "execution_count": 540,
   "metadata": {},
   "outputs": [
    {
     "name": "stdout",
     "output_type": "stream",
     "text": [
      "NaN                    16943\n",
      "Atalanta                  20\n",
      "Sassuolo                  18\n",
      "Juventus                  17\n",
      "SL Benfica                17\n",
      "                       ...  \n",
      "Alianza Petrolera          1\n",
      "América de Cali            1\n",
      "SSV Jahn Regensburg        1\n",
      "CA Osasuna                 1\n",
      "Rayo Vallecano             1\n",
      "Name: Loaned From, Length: 342, dtype: int64\n"
     ]
    }
   ],
   "source": [
    "print(df['Loaned From'].value_counts(dropna = False))"
   ]
  },
  {
   "cell_type": "code",
   "execution_count": 541,
   "metadata": {},
   "outputs": [],
   "source": [
    "df['Loaned From'].fillna(\"No es Prestamo\", inplace = True)"
   ]
  },
  {
   "cell_type": "code",
   "execution_count": 542,
   "metadata": {},
   "outputs": [
    {
     "name": "stdout",
     "output_type": "stream",
     "text": [
      "2019                   4819\n",
      "2021                   4360\n",
      "2020                   4027\n",
      "2022                   1477\n",
      "2023                   1053\n",
      "2019-06-30 00:00:00     931\n",
      "2018                    886\n",
      "NaN                     289\n",
      "2018-12-31 00:00:00     144\n",
      "2019-05-31 00:00:00      60\n",
      "2019-01-01 00:00:00      51\n",
      "2024                     23\n",
      "2020-06-30 00:00:00      14\n",
      "2019-01-31 00:00:00      13\n",
      "2025                      7\n",
      "2019-01-05 00:00:00       6\n",
      "2019-01-02 00:00:00       6\n",
      "2019-01-12 00:00:00       5\n",
      "2019-10-14 00:00:00       5\n",
      "2019-01-06 00:00:00       4\n",
      "2019-01-25 00:00:00       3\n",
      "2019-01-07 00:00:00       3\n",
      "2019-12-31 00:00:00       3\n",
      "2019-12-01 00:00:00       2\n",
      "2026                      2\n",
      "2020-05-31 00:00:00       2\n",
      "2018-11-30 00:00:00       2\n",
      "2019-01-04 00:00:00       1\n",
      "2019-01-18 00:00:00       1\n",
      "2019-01-11 00:00:00       1\n",
      "2019-01-30 00:00:00       1\n",
      "2019-01-15 00:00:00       1\n",
      "2020-02-27 00:00:00       1\n",
      "2019-01-20 00:00:00       1\n",
      "2019-06-01 00:00:00       1\n",
      "2019-05-04 00:00:00       1\n",
      "2019-01-03 00:00:00       1\n",
      "Name: Contract Valid Until, dtype: int64\n"
     ]
    }
   ],
   "source": [
    "print(df['Contract Valid Until'].value_counts(dropna = False))"
   ]
  },
  {
   "cell_type": "code",
   "execution_count": 543,
   "metadata": {},
   "outputs": [],
   "source": [
    "df['Contract Valid Until'].fillna(\"2019\", inplace = True)"
   ]
  },
  {
   "cell_type": "code",
   "execution_count": 544,
   "metadata": {},
   "outputs": [
    {
     "name": "stdout",
     "output_type": "stream",
     "text": [
      "6'0     2881\n",
      "5'10    2479\n",
      "5'9     2238\n",
      "5'11    2159\n",
      "6'2     2015\n",
      "6'1     1908\n",
      "6'3      990\n",
      "5'8      946\n",
      "5'7      905\n",
      "6'4      749\n",
      "5'6      316\n",
      "6'5      246\n",
      "5'5      145\n",
      "6'6       93\n",
      "NaN       48\n",
      "5'4       30\n",
      "6'7       21\n",
      "5'3       18\n",
      "6'8       10\n",
      "5'2        5\n",
      "5'1        3\n",
      "6'9        2\n",
      "Name: Height, dtype: int64\n"
     ]
    }
   ],
   "source": [
    "print(df['Height'].value_counts(dropna = False))"
   ]
  },
  {
   "cell_type": "code",
   "execution_count": 545,
   "metadata": {},
   "outputs": [],
   "source": [
    "df['Height'].fillna(\"6'0\", inplace = True)"
   ]
  },
  {
   "cell_type": "code",
   "execution_count": 546,
   "metadata": {},
   "outputs": [
    {
     "name": "stdout",
     "output_type": "stream",
     "text": [
      "165lbs    1483\n",
      "154lbs    1439\n",
      "176lbs    1041\n",
      "172lbs     987\n",
      "159lbs     946\n",
      "161lbs     936\n",
      "163lbs     901\n",
      "170lbs     860\n",
      "168lbs     836\n",
      "174lbs     705\n",
      "150lbs     660\n",
      "157lbs     617\n",
      "181lbs     584\n",
      "183lbs     513\n",
      "179lbs     507\n",
      "152lbs     506\n",
      "143lbs     505\n",
      "187lbs     448\n",
      "148lbs     435\n",
      "185lbs     432\n",
      "146lbs     365\n",
      "141lbs     322\n",
      "190lbs     288\n",
      "194lbs     278\n",
      "139lbs     206\n",
      "192lbs     193\n",
      "137lbs     165\n",
      "198lbs     156\n",
      "196lbs     143\n",
      "132lbs     127\n",
      "201lbs      93\n",
      "134lbs      87\n",
      "203lbs      75\n",
      "205lbs      60\n",
      "NaN         48\n",
      "207lbs      45\n",
      "209lbs      34\n",
      "130lbs      33\n",
      "128lbs      31\n",
      "212lbs      23\n",
      "123lbs      18\n",
      "126lbs      14\n",
      "214lbs      11\n",
      "121lbs      10\n",
      "216lbs       9\n",
      "117lbs       6\n",
      "218lbs       5\n",
      "119lbs       4\n",
      "223lbs       3\n",
      "225lbs       3\n",
      "110lbs       2\n",
      "227lbs       2\n",
      "236lbs       2\n",
      "229lbs       1\n",
      "234lbs       1\n",
      "243lbs       1\n",
      "220lbs       1\n",
      "115lbs       1\n",
      "Name: Weight, dtype: int64\n"
     ]
    }
   ],
   "source": [
    "print(df['Weight'].value_counts(dropna = False))"
   ]
  },
  {
   "cell_type": "code",
   "execution_count": 547,
   "metadata": {},
   "outputs": [],
   "source": [
    "df['Weight'].fillna(\"165lbs\", inplace = True)"
   ]
  },
  {
   "cell_type": "code",
   "execution_count": 548,
   "metadata": {},
   "outputs": [
    {
     "name": "stdout",
     "output_type": "stream",
     "text": [
      "NaN     2085\n",
      "61+2     705\n",
      "60+2     695\n",
      "59+2     688\n",
      "63+2     667\n",
      "        ... \n",
      "49+3       1\n",
      "87+5       1\n",
      "82+4       1\n",
      "88+2       1\n",
      "55+3       1\n",
      "Name: LS, Length: 94, dtype: int64\n"
     ]
    }
   ],
   "source": [
    "print(df['LS'].value_counts(dropna = False))"
   ]
  },
  {
   "cell_type": "code",
   "execution_count": 549,
   "metadata": {},
   "outputs": [],
   "source": [
    "df['LS'].fillna(\"61+2\", inplace = True)"
   ]
  },
  {
   "cell_type": "code",
   "execution_count": 550,
   "metadata": {},
   "outputs": [
    {
     "name": "stdout",
     "output_type": "stream",
     "text": [
      "NaN     2085\n",
      "61+2     705\n",
      "60+2     695\n",
      "59+2     688\n",
      "63+2     667\n",
      "        ... \n",
      "49+3       1\n",
      "87+5       1\n",
      "82+4       1\n",
      "88+2       1\n",
      "55+3       1\n",
      "Name: ST, Length: 94, dtype: int64\n"
     ]
    }
   ],
   "source": [
    "print(df['ST'].value_counts(dropna = False))"
   ]
  },
  {
   "cell_type": "code",
   "execution_count": 551,
   "metadata": {},
   "outputs": [],
   "source": [
    "df['ST'].fillna(\"61+2\", inplace = True)"
   ]
  },
  {
   "cell_type": "code",
   "execution_count": 552,
   "metadata": {},
   "outputs": [],
   "source": [
    "df['RS'].fillna(\"61+2\", inplace = True)"
   ]
  },
  {
   "cell_type": "code",
   "execution_count": 553,
   "metadata": {},
   "outputs": [],
   "source": [
    "df['LW'].fillna(\"61+2\", inplace = True)"
   ]
  },
  {
   "cell_type": "code",
   "execution_count": 554,
   "metadata": {},
   "outputs": [],
   "source": [
    "df['LF'].fillna(\"61+2\", inplace = True)"
   ]
  },
  {
   "cell_type": "code",
   "execution_count": 555,
   "metadata": {},
   "outputs": [],
   "source": [
    "df['CF'].fillna(\"61+2\", inplace = True)"
   ]
  },
  {
   "cell_type": "code",
   "execution_count": 556,
   "metadata": {},
   "outputs": [],
   "source": [
    "df['RF'].fillna(\"61+2\", inplace = True)"
   ]
  },
  {
   "cell_type": "code",
   "execution_count": 557,
   "metadata": {},
   "outputs": [],
   "source": [
    "df['RW'].fillna(\"61+2\", inplace = True)"
   ]
  },
  {
   "cell_type": "code",
   "execution_count": 558,
   "metadata": {},
   "outputs": [],
   "source": [
    "df['LAM'].fillna(\"61+2\", inplace = True)"
   ]
  },
  {
   "cell_type": "code",
   "execution_count": 559,
   "metadata": {},
   "outputs": [],
   "source": [
    "df['CAM'].fillna(\"61+2\", inplace = True)"
   ]
  },
  {
   "cell_type": "code",
   "execution_count": 560,
   "metadata": {},
   "outputs": [],
   "source": [
    "df['RAM'].fillna(\"61+2\", inplace = True)"
   ]
  },
  {
   "cell_type": "code",
   "execution_count": 561,
   "metadata": {},
   "outputs": [],
   "source": [
    "df['LM'].fillna(\"61+2\", inplace = True)"
   ]
  },
  {
   "cell_type": "code",
   "execution_count": 562,
   "metadata": {},
   "outputs": [],
   "source": [
    "df['LCM'].fillna(\"61+2\", inplace = True)"
   ]
  },
  {
   "cell_type": "code",
   "execution_count": 563,
   "metadata": {},
   "outputs": [],
   "source": [
    "df['CM'].fillna(\"61+2\", inplace = True)"
   ]
  },
  {
   "cell_type": "code",
   "execution_count": 564,
   "metadata": {},
   "outputs": [],
   "source": [
    "df['RCM'].fillna(\"61+2\", inplace = True)"
   ]
  },
  {
   "cell_type": "code",
   "execution_count": 565,
   "metadata": {},
   "outputs": [],
   "source": [
    "df['RM'].fillna(\"61+2\", inplace = True)"
   ]
  },
  {
   "cell_type": "code",
   "execution_count": 566,
   "metadata": {},
   "outputs": [],
   "source": [
    "df['LWB'].fillna(\"61+2\", inplace = True)"
   ]
  },
  {
   "cell_type": "code",
   "execution_count": 567,
   "metadata": {},
   "outputs": [],
   "source": [
    "df['LDM'].fillna(\"61+2\", inplace = True)"
   ]
  },
  {
   "cell_type": "code",
   "execution_count": 568,
   "metadata": {},
   "outputs": [],
   "source": [
    "df['CDM'].fillna(\"61+2\", inplace = True)"
   ]
  },
  {
   "cell_type": "code",
   "execution_count": 569,
   "metadata": {},
   "outputs": [],
   "source": [
    "df['RDM'].fillna(\"61+2\", inplace = True)"
   ]
  },
  {
   "cell_type": "code",
   "execution_count": 570,
   "metadata": {},
   "outputs": [],
   "source": [
    "df['RWB'].fillna(\"61+2\", inplace = True)"
   ]
  },
  {
   "cell_type": "code",
   "execution_count": 571,
   "metadata": {},
   "outputs": [],
   "source": [
    "df['LB'].fillna(\"61+2\", inplace = True)"
   ]
  },
  {
   "cell_type": "code",
   "execution_count": 572,
   "metadata": {},
   "outputs": [],
   "source": [
    "df['LCB'].fillna(\"61+2\", inplace = True)"
   ]
  },
  {
   "cell_type": "code",
   "execution_count": 573,
   "metadata": {},
   "outputs": [],
   "source": [
    "df['CB'].fillna(\"61+2\", inplace = True)"
   ]
  },
  {
   "cell_type": "code",
   "execution_count": 574,
   "metadata": {},
   "outputs": [],
   "source": [
    "df['RCB'].fillna(\"61+2\", inplace = True)"
   ]
  },
  {
   "cell_type": "code",
   "execution_count": 575,
   "metadata": {},
   "outputs": [],
   "source": [
    "df['RB'].fillna(\"61+2\", inplace = True)"
   ]
  },
  {
   "cell_type": "code",
   "execution_count": 576,
   "metadata": {},
   "outputs": [
    {
     "name": "stdout",
     "output_type": "stream",
     "text": [
      "65.0    528\n",
      "62.0    528\n",
      "60.0    518\n",
      "59.0    508\n",
      "64.0    497\n",
      "       ... \n",
      "90.0      3\n",
      "89.0      2\n",
      "93.0      1\n",
      "92.0      1\n",
      "5.0       1\n",
      "Name: Crossing, Length: 90, dtype: int64\n"
     ]
    }
   ],
   "source": [
    "print(df['Crossing'].value_counts(dropna = False))"
   ]
  },
  {
   "cell_type": "code",
   "execution_count": 577,
   "metadata": {},
   "outputs": [
    {
     "name": "stdout",
     "output_type": "stream",
     "text": [
      "45.0    492\n",
      "55.0    488\n",
      "49.0    480\n",
      "48.0    473\n",
      "58.0    471\n",
      "       ... \n",
      "89.0      3\n",
      "92.0      1\n",
      "5.0       1\n",
      "91.0      1\n",
      "7.0       1\n",
      "Name: Penalties, Length: 88, dtype: int64\n"
     ]
    }
   ],
   "source": [
    "print(df['Penalties'].value_counts(dropna = False))"
   ]
  },
  {
   "cell_type": "code",
   "execution_count": 578,
   "metadata": {},
   "outputs": [
    {
     "name": "stdout",
     "output_type": "stream",
     "text": [
      "59.0    508\n",
      "58.0    496\n",
      "62.0    485\n",
      "65.0    436\n",
      "55.0    435\n",
      "       ... \n",
      "91.0      2\n",
      "92.0      2\n",
      "90.0      2\n",
      "3.0       1\n",
      "94.0      1\n",
      "Name: LongShots, Length: 93, dtype: int64\n"
     ]
    }
   ],
   "source": [
    "print(df['LongShots'].value_counts(dropna = False))"
   ]
  },
  {
   "cell_type": "code",
   "execution_count": 579,
   "metadata": {},
   "outputs": [],
   "source": [
    "df['Crossing'].fillna(60, inplace = True)\n",
    "df['Finishing'].fillna(60, inplace = True)\n",
    "df['HeadingAccuracy'].fillna(60, inplace = True)\n",
    "df['ShortPassing'].fillna(60, inplace = True)\n",
    "df['Volleys'].fillna(60, inplace = True)\n",
    "df['Dribbling'].fillna(60, inplace = True)\n",
    "df['Curve'].fillna(60, inplace = True)\n",
    "df['FKAccuracy'].fillna(60, inplace = True)\n",
    "df['LongPassing'].fillna(60, inplace = True)\n",
    "df['BallControl'].fillna(60, inplace = True)\n",
    "df['Acceleration'].fillna(60, inplace = True)\n",
    "df['SprintSpeed'].fillna(60, inplace = True)\n",
    "df['Agility'].fillna(60, inplace = True)\n",
    "df['Reactions'].fillna(60, inplace = True)\n",
    "df['Balance'].fillna(60, inplace = True)\n",
    "df['ShotPower'].fillna(60, inplace = True)\n",
    "df['Jumping'].fillna(60, inplace = True)\n",
    "df['Stamina'].fillna(60, inplace = True)\n",
    "df['Strength'].fillna(60, inplace = True)\n",
    "df['LongShots'].fillna(60, inplace = True)\n",
    "df['Aggression'].fillna(60, inplace = True)\n",
    "df['Interceptions'].fillna(60, inplace = True)\n",
    "df['Positioning'].fillna(60, inplace = True)\n",
    "df['Vision'].fillna(60, inplace = True)"
   ]
  },
  {
   "cell_type": "code",
   "execution_count": 580,
   "metadata": {},
   "outputs": [],
   "source": [
    "df['Penalties'].fillna(45, inplace = True)\n",
    "df['Composure'].fillna(60, inplace = True)\n",
    "df['Marking'].fillna(60, inplace = True)\n",
    "df['StandingTackle'].fillna(60, inplace = True)\n",
    "df['SlidingTackle'].fillna(60, inplace = True)"
   ]
  },
  {
   "cell_type": "code",
   "execution_count": 581,
   "metadata": {},
   "outputs": [
    {
     "name": "stdout",
     "output_type": "stream",
     "text": [
      "11.0    1602\n",
      "10.0    1602\n",
      "8.0     1598\n",
      "7.0     1577\n",
      "14.0    1571\n",
      "        ... \n",
      "34.0       1\n",
      "23.0       1\n",
      "25.0       1\n",
      "37.0       1\n",
      "20.0       1\n",
      "Name: GKReflexes, Length: 77, dtype: int64\n"
     ]
    }
   ],
   "source": [
    "print(df['GKReflexes'].value_counts(dropna = False))"
   ]
  },
  {
   "cell_type": "code",
   "execution_count": 582,
   "metadata": {},
   "outputs": [],
   "source": [
    "df['GKDiving'].fillna(8, inplace = True)\n",
    "df['GKHandling'].fillna(10, inplace = True)\n",
    "df['GKKicking'].fillna(12, inplace = True)\n",
    "df['GKPositioning'].fillna(10, inplace = True)\n",
    "df['GKReflexes'].fillna(11, inplace = True)"
   ]
  },
  {
   "cell_type": "code",
   "execution_count": 583,
   "metadata": {},
   "outputs": [
    {
     "name": "stdout",
     "output_type": "stream",
     "text": [
      "NaN        1564\n",
      "€1.1M       557\n",
      "€1.3M       423\n",
      "€1.4M       386\n",
      "€1.2M       385\n",
      "           ... \n",
      "€54.5M        1\n",
      "€59.8M        1\n",
      "€74M          1\n",
      "€104.6M       1\n",
      "€166.1M       1\n",
      "Name: Release Clause, Length: 1245, dtype: int64\n"
     ]
    }
   ],
   "source": [
    "print(df['Release Clause'].value_counts(dropna = False))"
   ]
  },
  {
   "cell_type": "code",
   "execution_count": 584,
   "metadata": {},
   "outputs": [],
   "source": [
    "df['Release Clause'].fillna(\"€1.1M\", inplace = True)"
   ]
  },
  {
   "cell_type": "code",
   "execution_count": null,
   "metadata": {},
   "outputs": [],
   "source": [
    "file_name = 'data_FIFA_Clean.xlsx'\n",
    "  \n",
    "\n",
    "df.to_excel(file_name)\n",
    "print('DataFrame escrito en excel correctamente.')"
   ]
  }
 ],
 "metadata": {
  "kernelspec": {
   "display_name": "Python 3",
   "language": "python",
   "name": "python3"
  },
  "language_info": {
   "codemirror_mode": {
    "name": "ipython",
    "version": 3
   },
   "file_extension": ".py",
   "mimetype": "text/x-python",
   "name": "python",
   "nbconvert_exporter": "python",
   "pygments_lexer": "ipython3",
   "version": "3.8.5"
  }
 },
 "nbformat": 4,
 "nbformat_minor": 4
}
